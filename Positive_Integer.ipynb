{
 "cells": [
  {
   "cell_type": "code",
   "execution_count": 1,
   "id": "dd338545",
   "metadata": {},
   "outputs": [],
   "source": [
    "#write a program to print all positive integer in a range"
   ]
  },
  {
   "cell_type": "code",
   "execution_count": 2,
   "id": "e095d769",
   "metadata": {},
   "outputs": [
    {
     "name": "stdout",
     "output_type": "stream",
     "text": [
      "Enter the list size 4\n",
      "\n",
      "\n",
      "Enter number at index  0\n",
      "12\n",
      "Enter number at index  1\n",
      "14\n",
      "Enter number at index  2\n",
      "-95\n",
      "Enter number at index  3\n",
      "3\n",
      "list1:  [12, 14, -95, 3]\n",
      " Positve integers: \n",
      "12 14 3 "
     ]
    }
   ],
   "source": [
    "number_list = []\n",
    "n= int(input(\"Enter the list size \"))\n",
    "print(\"\\n\")\n",
    "for i in range(0,n):\n",
    "    print(\"Enter number at index \",i,)\n",
    "    item = int(input())\n",
    "    number_list.append(item)\n",
    "print(\"list1: \",number_list)\n",
    "\n",
    "print (\" Positve integers: \")\n",
    "for j in number_list:\n",
    "    if j >=0:\n",
    "        print(j, end = \" \")  "
   ]
  },
  {
   "cell_type": "code",
   "execution_count": null,
   "id": "81ed240e",
   "metadata": {},
   "outputs": [],
   "source": []
  }
 ],
 "metadata": {
  "kernelspec": {
   "display_name": "Python 3",
   "language": "python",
   "name": "python3"
  },
  "language_info": {
   "codemirror_mode": {
    "name": "ipython",
    "version": 3
   },
   "file_extension": ".py",
   "mimetype": "text/x-python",
   "name": "python",
   "nbconvert_exporter": "python",
   "pygments_lexer": "ipython3",
   "version": "3.8.8"
  }
 },
 "nbformat": 4,
 "nbformat_minor": 5
}
